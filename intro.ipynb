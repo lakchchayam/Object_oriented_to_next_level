{
 "cells": [
  {
   "cell_type": "code",
   "execution_count": null,
   "metadata": {},
   "outputs": [],
   "source": [
    "#introduction \n",
    "\n",
    "#Object-oriented programming syntax\n",
    "\n",
    "#procedural vs object-oriented programming\n",
    "##classes, objects, methods and attributes\n",
    "#coding a class\n",
    "#magic methods\n",
    "#inheritance\n",
    "\n",
    "\n",
    "#object oriented programming language allows you to create large modeular programs that can expand over the time \n",
    "#in procedural programming language intructions are performed one by one from starting to down\n",
    "\n",
    "###object oriented programming language is defined by characteristics and actions \n",
    "#if we take how to define a object in oopm then we should consider taking an example of a shop which  sells shirts \n",
    "#shop has a salesman and that salesman has characterstics and actions like for characteeristics they have name, address, phone no , hourly pay\n",
    "#also another object in that shop is a shirt which also has different characteristics like color, type, pprice\n",
    "\n",
    "# if we talk about of actions of the objects we are talking about then we can say the salesman has actions sell and take item\n",
    "# but if we talk about action of shirt it will sound weird but a shirt can have actions in terms like a shirt can cahnge its price\n",
    "#all these actions in terms of oopm can be said as methods\n"
   ]
  }
 ],
 "metadata": {
  "kernelspec": {
   "display_name": "Python 3",
   "language": "python",
   "name": "python3"
  },
  "language_info": {
   "codemirror_mode": {
    "name": "ipython",
    "version": 3
   },
   "file_extension": ".py",
   "mimetype": "text/x-python",
   "name": "python",
   "nbconvert_exporter": "python",
   "pygments_lexer": "ipython3",
   "version": "3.8.3"
  }
 },
 "nbformat": 4,
 "nbformat_minor": 4
}
